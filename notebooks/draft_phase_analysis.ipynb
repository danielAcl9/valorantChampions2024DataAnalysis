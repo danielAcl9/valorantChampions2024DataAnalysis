{
 "cells": [
  {
   "cell_type": "code",
   "execution_count": 102,
   "metadata": {},
   "outputs": [],
   "source": [
    "import pandas as pd\n",
    "\n",
    "import ipywidgets as widgets\n",
    "from IPython.display import display\n",
    "\n",
    "import matplotlib.pyplot as plt\n",
    "from matplotlib.ticker import MaxNLocator\n",
    "import seaborn as sns"
   ]
  },
  {
   "cell_type": "code",
   "execution_count": 62,
   "metadata": {},
   "outputs": [
    {
     "data": {
      "text/html": [
       "<div>\n",
       "<style scoped>\n",
       "    .dataframe tbody tr th:only-of-type {\n",
       "        vertical-align: middle;\n",
       "    }\n",
       "\n",
       "    .dataframe tbody tr th {\n",
       "        vertical-align: top;\n",
       "    }\n",
       "\n",
       "    .dataframe thead th {\n",
       "        text-align: right;\n",
       "    }\n",
       "</style>\n",
       "<table border=\"1\" class=\"dataframe\">\n",
       "  <thead>\n",
       "    <tr style=\"text-align: right;\">\n",
       "      <th></th>\n",
       "      <th>Tournament</th>\n",
       "      <th>Stage</th>\n",
       "      <th>Match Type</th>\n",
       "      <th>Match Name</th>\n",
       "      <th>Team</th>\n",
       "      <th>Action</th>\n",
       "      <th>Map</th>\n",
       "    </tr>\n",
       "  </thead>\n",
       "  <tbody>\n",
       "    <tr>\n",
       "      <th>0</th>\n",
       "      <td>Champions Tour 2024: Americas Stage 2</td>\n",
       "      <td>Regular Season</td>\n",
       "      <td>Week 1</td>\n",
       "      <td>MIBR vs Leviatán</td>\n",
       "      <td>MIBR</td>\n",
       "      <td>ban</td>\n",
       "      <td>Haven</td>\n",
       "    </tr>\n",
       "    <tr>\n",
       "      <th>1</th>\n",
       "      <td>Champions Tour 2024: Americas Stage 2</td>\n",
       "      <td>Regular Season</td>\n",
       "      <td>Week 1</td>\n",
       "      <td>MIBR vs Leviatán</td>\n",
       "      <td>Leviatán</td>\n",
       "      <td>ban</td>\n",
       "      <td>Split</td>\n",
       "    </tr>\n",
       "    <tr>\n",
       "      <th>2</th>\n",
       "      <td>Champions Tour 2024: Americas Stage 2</td>\n",
       "      <td>Regular Season</td>\n",
       "      <td>Week 1</td>\n",
       "      <td>MIBR vs Leviatán</td>\n",
       "      <td>MIBR</td>\n",
       "      <td>pick</td>\n",
       "      <td>Ascent</td>\n",
       "    </tr>\n",
       "    <tr>\n",
       "      <th>3</th>\n",
       "      <td>Champions Tour 2024: Americas Stage 2</td>\n",
       "      <td>Regular Season</td>\n",
       "      <td>Week 1</td>\n",
       "      <td>MIBR vs Leviatán</td>\n",
       "      <td>Leviatán</td>\n",
       "      <td>pick</td>\n",
       "      <td>Icebox</td>\n",
       "    </tr>\n",
       "    <tr>\n",
       "      <th>4</th>\n",
       "      <td>Champions Tour 2024: Americas Stage 2</td>\n",
       "      <td>Regular Season</td>\n",
       "      <td>Week 1</td>\n",
       "      <td>MIBR vs Leviatán</td>\n",
       "      <td>MIBR</td>\n",
       "      <td>ban</td>\n",
       "      <td>Lotus</td>\n",
       "    </tr>\n",
       "  </tbody>\n",
       "</table>\n",
       "</div>"
      ],
      "text/plain": [
       "                              Tournament           Stage Match Type  \\\n",
       "0  Champions Tour 2024: Americas Stage 2  Regular Season     Week 1   \n",
       "1  Champions Tour 2024: Americas Stage 2  Regular Season     Week 1   \n",
       "2  Champions Tour 2024: Americas Stage 2  Regular Season     Week 1   \n",
       "3  Champions Tour 2024: Americas Stage 2  Regular Season     Week 1   \n",
       "4  Champions Tour 2024: Americas Stage 2  Regular Season     Week 1   \n",
       "\n",
       "         Match Name      Team Action     Map  \n",
       "0  MIBR vs Leviatán      MIBR    ban   Haven  \n",
       "1  MIBR vs Leviatán  Leviatán    ban   Split  \n",
       "2  MIBR vs Leviatán      MIBR   pick  Ascent  \n",
       "3  MIBR vs Leviatán  Leviatán   pick  Icebox  \n",
       "4  MIBR vs Leviatán      MIBR    ban   Lotus  "
      ]
     },
     "execution_count": 62,
     "metadata": {},
     "output_type": "execute_result"
    }
   ],
   "source": [
    "df = pd.read_csv('../data/draft_phase.csv')\n",
    "df.head()"
   ]
  },
  {
   "cell_type": "code",
   "execution_count": 63,
   "metadata": {},
   "outputs": [
    {
     "data": {
      "text/plain": [
       "Tournament    object\n",
       "Stage         object\n",
       "Match Type    object\n",
       "Match Name    object\n",
       "Team          object\n",
       "Action        object\n",
       "Map           object\n",
       "dtype: object"
      ]
     },
     "execution_count": 63,
     "metadata": {},
     "output_type": "execute_result"
    }
   ],
   "source": [
    "df.dtypes"
   ]
  },
  {
   "cell_type": "code",
   "execution_count": 64,
   "metadata": {},
   "outputs": [
    {
     "data": {
      "text/html": [
       "<div>\n",
       "<style scoped>\n",
       "    .dataframe tbody tr th:only-of-type {\n",
       "        vertical-align: middle;\n",
       "    }\n",
       "\n",
       "    .dataframe tbody tr th {\n",
       "        vertical-align: top;\n",
       "    }\n",
       "\n",
       "    .dataframe thead th {\n",
       "        text-align: right;\n",
       "    }\n",
       "</style>\n",
       "<table border=\"1\" class=\"dataframe\">\n",
       "  <thead>\n",
       "    <tr style=\"text-align: right;\">\n",
       "      <th></th>\n",
       "      <th>Team</th>\n",
       "      <th>Action</th>\n",
       "      <th>Map</th>\n",
       "    </tr>\n",
       "  </thead>\n",
       "  <tbody>\n",
       "    <tr>\n",
       "      <th>0</th>\n",
       "      <td>MIBR</td>\n",
       "      <td>ban</td>\n",
       "      <td>Haven</td>\n",
       "    </tr>\n",
       "    <tr>\n",
       "      <th>1</th>\n",
       "      <td>Leviatán</td>\n",
       "      <td>ban</td>\n",
       "      <td>Split</td>\n",
       "    </tr>\n",
       "    <tr>\n",
       "      <th>2</th>\n",
       "      <td>MIBR</td>\n",
       "      <td>pick</td>\n",
       "      <td>Ascent</td>\n",
       "    </tr>\n",
       "    <tr>\n",
       "      <th>3</th>\n",
       "      <td>Leviatán</td>\n",
       "      <td>pick</td>\n",
       "      <td>Icebox</td>\n",
       "    </tr>\n",
       "    <tr>\n",
       "      <th>4</th>\n",
       "      <td>MIBR</td>\n",
       "      <td>ban</td>\n",
       "      <td>Lotus</td>\n",
       "    </tr>\n",
       "  </tbody>\n",
       "</table>\n",
       "</div>"
      ],
      "text/plain": [
       "       Team Action     Map\n",
       "0      MIBR    ban   Haven\n",
       "1  Leviatán    ban   Split\n",
       "2      MIBR   pick  Ascent\n",
       "3  Leviatán   pick  Icebox\n",
       "4      MIBR    ban   Lotus"
      ]
     },
     "execution_count": 64,
     "metadata": {},
     "output_type": "execute_result"
    }
   ],
   "source": [
    "df.drop(columns=['Tournament', 'Stage', 'Match Type', 'Match Name'], inplace=True)\n",
    "df.head()"
   ]
  },
  {
   "cell_type": "code",
   "execution_count": 65,
   "metadata": {},
   "outputs": [
    {
     "data": {
      "application/vnd.jupyter.widget-view+json": {
       "model_id": "345f68f919204a049df2509f44e06034",
       "version_major": 2,
       "version_minor": 0
      },
      "text/plain": [
       "Dropdown(description='Team:', options=('100 Thieves', 'All Gamers', 'BBL Esports', 'BLEED', 'Bilibili Gaming',…"
      ]
     },
     "metadata": {},
     "output_type": "display_data"
    },
    {
     "name": "stdout",
     "output_type": "stream",
     "text": [
      "Team: None\n"
     ]
    },
    {
     "name": "stdout",
     "output_type": "stream",
     "text": [
      "Picked team: Cloud9\n",
      "Picked team: FNATIC\n"
     ]
    }
   ],
   "source": [
    "teams_list = df['Team'].unique()\n",
    "teams_list = sorted(teams_list)\n",
    "\n",
    "# Crear el widget de menú desplegable\n",
    "dropdown_menu = widgets.Dropdown(\n",
    "    options=teams_list,\n",
    "    value=teams_list[0],\n",
    "    description='Team:',\n",
    ")\n",
    "\n",
    "# Variable para almacenar el nombre seleccionado\n",
    "picked_team = None\n",
    "\n",
    "# Función para manejar la selección del usuario\n",
    "def handle_dropdown_change(change):\n",
    "    global picked_team\n",
    "    picked_team = change.new\n",
    "    print(f\"Picked team: {picked_team}\")\n",
    "\n",
    "# Asociar la función al evento de cambio en el menú desplegable\n",
    "dropdown_menu.observe(handle_dropdown_change, names='value')\n",
    "\n",
    "# Mostrar el menú desplegable\n",
    "display(dropdown_menu)\n",
    "\n",
    "# El código continuará aquí después de que se haya seleccionado una opción\n",
    "print(\"Team:\", picked_team)"
   ]
  },
  {
   "cell_type": "code",
   "execution_count": 82,
   "metadata": {},
   "outputs": [
    {
     "name": "stdout",
     "output_type": "stream",
     "text": [
      "FNATIC's Most Picked Maps\n",
      "Lotus: 26.92%\n",
      "Breeze: 19.23%\n",
      "Haven: 19.23%\n",
      "\n",
      "FNATIC's Most Banned Maps\n",
      "Sunset: 44.19%\n",
      "Split: 16.28%\n",
      "Ascent: 11.63%\n"
     ]
    }
   ],
   "source": [
    "action_counts = df.groupby(['Team', 'Action', 'Map']).size().reset_index(name='Count')\n",
    "action_counts = action_counts[action_counts['Team'] == picked_team]\n",
    "\n",
    "top_banned = action_counts[action_counts['Action'] == 'ban'].sort_values(by='Count', ascending=False)\n",
    "top_picked = action_counts[action_counts['Action'] == 'pick'].sort_values(by='Count', ascending=False)\n",
    "\n",
    "total_picks = top_picked['Count'].sum()\n",
    "total_bans = top_banned['Count'].sum()\n",
    "\n",
    "print(f\"{picked_team}'s Most Picked Maps\")\n",
    "for index, row in top_picked.head(3).iterrows():\n",
    "    map_name = row['Map']\n",
    "    pick_count = row['Count']\n",
    "    pick_rate = (pick_count / total_picks) * 100\n",
    "    print(f\"{map_name}: {pick_rate:.2f}%\")\n",
    "\n",
    "print(f\"\\n{picked_team}'s Most Banned Maps\")\n",
    "for index, row in top_banned.head(3).iterrows():\n",
    "    map_name = row['Map']\n",
    "    ban_count = row['Count']\n",
    "    ban_rate = (ban_count / total_bans) * 100\n",
    "    print(f\"{map_name}: {ban_rate:.2f}%\")"
   ]
  },
  {
   "cell_type": "code",
   "execution_count": 101,
   "metadata": {},
   "outputs": [
    {
     "data": {
      "text/html": [
       "<div>\n",
       "<style scoped>\n",
       "    .dataframe tbody tr th:only-of-type {\n",
       "        vertical-align: middle;\n",
       "    }\n",
       "\n",
       "    .dataframe tbody tr th {\n",
       "        vertical-align: top;\n",
       "    }\n",
       "\n",
       "    .dataframe thead th {\n",
       "        text-align: right;\n",
       "    }\n",
       "</style>\n",
       "<table border=\"1\" class=\"dataframe\">\n",
       "  <thead>\n",
       "    <tr style=\"text-align: right;\">\n",
       "      <th></th>\n",
       "      <th>Team</th>\n",
       "      <th>Action</th>\n",
       "      <th>Map</th>\n",
       "      <th>Count</th>\n",
       "    </tr>\n",
       "  </thead>\n",
       "  <tbody>\n",
       "    <tr>\n",
       "      <th>157</th>\n",
       "      <td>FNATIC</td>\n",
       "      <td>ban</td>\n",
       "      <td>Sunset</td>\n",
       "      <td>19</td>\n",
       "    </tr>\n",
       "    <tr>\n",
       "      <th>156</th>\n",
       "      <td>FNATIC</td>\n",
       "      <td>ban</td>\n",
       "      <td>Split</td>\n",
       "      <td>7</td>\n",
       "    </tr>\n",
       "    <tr>\n",
       "      <th>153</th>\n",
       "      <td>FNATIC</td>\n",
       "      <td>ban</td>\n",
       "      <td>Ascent</td>\n",
       "      <td>5</td>\n",
       "    </tr>\n",
       "    <tr>\n",
       "      <th>154</th>\n",
       "      <td>FNATIC</td>\n",
       "      <td>ban</td>\n",
       "      <td>Bind</td>\n",
       "      <td>5</td>\n",
       "    </tr>\n",
       "    <tr>\n",
       "      <th>155</th>\n",
       "      <td>FNATIC</td>\n",
       "      <td>ban</td>\n",
       "      <td>Icebox</td>\n",
       "      <td>5</td>\n",
       "    </tr>\n",
       "    <tr>\n",
       "      <th>152</th>\n",
       "      <td>FNATIC</td>\n",
       "      <td>ban</td>\n",
       "      <td>Abyss</td>\n",
       "      <td>2</td>\n",
       "    </tr>\n",
       "  </tbody>\n",
       "</table>\n",
       "</div>"
      ],
      "text/plain": [
       "       Team Action     Map  Count\n",
       "157  FNATIC    ban  Sunset     19\n",
       "156  FNATIC    ban   Split      7\n",
       "153  FNATIC    ban  Ascent      5\n",
       "154  FNATIC    ban    Bind      5\n",
       "155  FNATIC    ban  Icebox      5\n",
       "152  FNATIC    ban   Abyss      2"
      ]
     },
     "execution_count": 101,
     "metadata": {},
     "output_type": "execute_result"
    }
   ],
   "source": [
    "top_banned"
   ]
  },
  {
   "cell_type": "code",
   "execution_count": 103,
   "metadata": {},
   "outputs": [
    {
     "data": {
      "image/png": "[encoded data removed]",
      "text/plain": [
       "<Figure size 1500x700 with 2 Axes>"
      ]
     },
     "metadata": {},
     "output_type": "display_data"
    }
   ],
   "source": [
    "fig, axes = plt.subplots(1, 2, figsize=(15, 7))\n",
    "colors = sns.dark_palette(\"#69d\", reverse=True)\n",
    "\n",
    "sns.barplot(x='Map', y='Count', data=top_picked, ax=axes[0], palette=colors)\n",
    "axes[0].set_title(f\"{picked_team}'s Most Picked Maps\")\n",
    "axes[0].set_ylabel('Count')\n",
    "axes[0].set_xlabel('Map')\n",
    "\n",
    "sns.barplot(x='Map', y='Count', data=top_banned, ax=axes[1], palette=colors)\n",
    "axes[1].set_title(f\"{picked_team}'s Most Banned Maps\")\n",
    "axes[1].set_ylabel('Count')\n",
    "axes[1].set_xlabel('Map')\n",
    "axes[1].yaxis.set_major_locator(MaxNLocator(integer=True))\n",
    "\n",
    "plt.tight_layout()\n",
    "plt.show()"
   ]
  }
 ],
 "metadata": {
  "kernelspec": {
   "display_name": "Python 3",
   "language": "python",
   "name": "python3"
  },
  "language_info": {
   "codemirror_mode": {
    "name": "ipython",
    "version": 3
   },
   "file_extension": ".py",
   "mimetype": "text/x-python",
   "name": "python",
   "nbconvert_exporter": "python",
   "pygments_lexer": "ipython3",
   "version": "3.11.9"
  }
 },
 "nbformat": 4,
 "nbformat_minor": 2
}
