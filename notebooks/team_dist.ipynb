{
 "cells": [
  {
   "cell_type": "code",
   "execution_count": null,
   "metadata": {},
   "outputs": [],
   "source": [
    "import pandas as pd"
   ]
  },
  {
   "cell_type": "markdown",
   "metadata": {},
   "source": [
    "**No he usado:***\n",
    "- match_scores\n",
    "- team_map_win_rates\n",
    "- win_loss_methods_count\n",
    "\n",
    "**En que voy?**\n",
    "Acabo de calcular los porcentajes de victorias de cada equipo por cada mapa. \n",
    "\n",
    "Ahora sigue hacer la data para empezar la distribución de Poisson. Por ahora lo que se me ocurre que necesito es: \n",
    "- Equipo\n",
    "- **Partidos** jugados\n",
    "- **Partidos** ganados\n",
    "- **Partidos** perdidos\n",
    "- Winrate de **partidos**\n",
    "\n",
    "- **Mapas** jugados\n",
    "- **Mapas** ganados\n",
    "- **Mapas** perdidos\n",
    "- Winrate de mapas \n",
    "\n",
    "- **Rondas** jugadas\n",
    "- **Rondas** ganadas\n",
    "- **Rondas** perdidas\n",
    "- Winrate de rondas "
   ]
  },
  {
   "cell_type": "code",
   "execution_count": null,
   "metadata": {},
   "outputs": [],
   "source": []
  }
 ],
 "metadata": {
  "language_info": {
   "name": "python"
  }
 },
 "nbformat": 4,
 "nbformat_minor": 2
}
