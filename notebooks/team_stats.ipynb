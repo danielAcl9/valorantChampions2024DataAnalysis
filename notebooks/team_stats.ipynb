{
 "cells": [
  {
   "cell_type": "code",
   "execution_count": 19,
   "metadata": {},
   "outputs": [],
   "source": [
    "import pandas as pd"
   ]
  },
  {
   "cell_type": "code",
   "execution_count": 20,
   "metadata": {},
   "outputs": [
    {
     "data": {
      "text/plain": [
       "Tournament                       object\n",
       "Stage                            object\n",
       "Match Type                       object\n",
       "Match Name                       object\n",
       "Map                              object\n",
       "Team                             object\n",
       "Elimination                       int64\n",
       "Detonated                         int64\n",
       "Defused                           int64\n",
       "Time Expiry (No Plant)            int64\n",
       "Eliminated                        int64\n",
       "Defused Failed                    int64\n",
       "Detonation Denied                 int64\n",
       "Time Expiry (Failed to Plant)     int64\n",
       "dtype: object"
      ]
     },
     "execution_count": 20,
     "metadata": {},
     "output_type": "execute_result"
    }
   ],
   "source": [
    "df_maps = pd.read_csv('../data/maps_scores.csv')\n",
    "df_scores = pd.read_csv('../data/scores.csv')\n",
    "df_win_loss_methods = pd.read_csv('../data/win_loss_methods_count.csv')\n",
    "\n",
    "# df_maps.dtypes\n",
    "# df_scores.dtypes\n",
    "df_win_loss_methods.dtypes"
   ]
  },
  {
   "cell_type": "code",
   "execution_count": 21,
   "metadata": {},
   "outputs": [
    {
     "name": "stdout",
     "output_type": "stream",
     "text": [
      "['MIBR', 'DetonatioN FocusMe', 'T1', '100 Thieves', 'NRG Esports', 'Team Vitality', 'Rex Regum Qeon', 'Team Liquid', 'KOI', 'G2 Esports', 'EDward Gaming', 'Team Secret', 'Leviatán', 'Sentinels', 'Paper Rex', 'Team Heretics', 'GIANTX', 'Trace Esports', 'KRÜ Esports', 'FUT Esports', 'Titan Esports Club', 'Bilibili Gaming', 'TYLOO', 'Talon Esports', 'FNATIC', 'BLEED', 'All Gamers', 'BBL Esports', 'Evil Geniuses', 'JDG Esports', 'Cloud9', 'Gentle Mates', 'FURIA', 'FunPlus Phoenix', 'LOUD', 'Wolves Esports', 'DRX', 'Gen.G', 'Natus Vincere', 'Nova Esports', 'Dragon Ranger Gaming', 'Global Esports', 'Karmine Corp', 'ZETA DIVISION']\n"
     ]
    }
   ],
   "source": [
    "team_values = df_maps['Team A'].unique().tolist() + df_maps['Team B'].unique().tolist()\n",
    "unique_teams = list(set(team_values))"
   ]
  },
  {
   "cell_type": "code",
   "execution_count": null,
   "metadata": {},
   "outputs": [],
   "source": [
    "team_df = pd.DataFrame(columns=['Team', 'Matched Played', 'Wins', 'Losses', 'Rounds Won', 'Rounds Lost', 'Win Rate', 'Loss Rate', 'Round Win Rate', 'Round Loss Rate'])\n",
    "team_df['Team'] = unique_teams"
   ]
  }
 ],
 "metadata": {
  "kernelspec": {
   "display_name": "Python 3",
   "language": "python",
   "name": "python3"
  },
  "language_info": {
   "codemirror_mode": {
    "name": "ipython",
    "version": 3
   },
   "file_extension": ".py",
   "mimetype": "text/x-python",
   "name": "python",
   "nbconvert_exporter": "python",
   "pygments_lexer": "ipython3",
   "version": "3.11.9"
  }
 },
 "nbformat": 4,
 "nbformat_minor": 2
}
